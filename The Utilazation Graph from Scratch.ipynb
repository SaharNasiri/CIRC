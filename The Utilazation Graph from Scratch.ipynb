{
 "cells": [
  {
   "cell_type": "code",
   "execution_count": 1,
   "metadata": {},
   "outputs": [],
   "source": [
    "import pandas as pd\n",
    "import re\n",
    "import numpy as np\n",
    "from matplotlib import pyplot as plt\n",
    "%matplotlib inline\n",
    "import warnings\n",
    "warnings.filterwarnings('ignore')\n",
    "import datetime\n",
    "from ast import literal_eval \n",
    "from itertools import chain"
   ]
  },
  {
   "cell_type": "code",
   "execution_count": 33,
   "metadata": {},
   "outputs": [],
   "source": [
    "df = pd.read_csv('bluehive_job_table.txt', header=None)"
   ]
  },
  {
   "cell_type": "code",
   "execution_count": 34,
   "metadata": {},
   "outputs": [
    {
     "data": {
      "text/html": [
       "<div>\n",
       "<style scoped>\n",
       "    .dataframe tbody tr th:only-of-type {\n",
       "        vertical-align: middle;\n",
       "    }\n",
       "\n",
       "    .dataframe tbody tr th {\n",
       "        vertical-align: top;\n",
       "    }\n",
       "\n",
       "    .dataframe thead th {\n",
       "        text-align: right;\n",
       "    }\n",
       "</style>\n",
       "<table border=\"1\" class=\"dataframe\">\n",
       "  <thead>\n",
       "    <tr style=\"text-align: right;\">\n",
       "      <th></th>\n",
       "      <th>job_db_inx</th>\n",
       "      <th>mod_time</th>\n",
       "      <th>deleted</th>\n",
       "      <th>account</th>\n",
       "      <th>array_task_str</th>\n",
       "      <th>array_max_tasks</th>\n",
       "      <th>array_task_pending</th>\n",
       "      <th>cpus_req</th>\n",
       "      <th>derived_ec</th>\n",
       "      <th>derived_es</th>\n",
       "      <th>...</th>\n",
       "      <th>time_start</th>\n",
       "      <th>time_end</th>\n",
       "      <th>time_suspended</th>\n",
       "      <th>gres_req</th>\n",
       "      <th>gres_alloc</th>\n",
       "      <th>gres_used</th>\n",
       "      <th>wckey</th>\n",
       "      <th>track_steps</th>\n",
       "      <th>tres_alloc</th>\n",
       "      <th>tres_req</th>\n",
       "    </tr>\n",
       "  </thead>\n",
       "  <tbody>\n",
       "    <tr>\n",
       "      <th>0</th>\n",
       "      <td>1</td>\n",
       "      <td>1495561699</td>\n",
       "      <td>0</td>\n",
       "      <td>circ_staff</td>\n",
       "      <td>\\N</td>\n",
       "      <td>0</td>\n",
       "      <td>0</td>\n",
       "      <td>1</td>\n",
       "      <td>0</td>\n",
       "      <td>\\N</td>\n",
       "      <td>...</td>\n",
       "      <td>1495561399</td>\n",
       "      <td>1495561699</td>\n",
       "      <td>0</td>\n",
       "      <td>NaN</td>\n",
       "      <td>NaN</td>\n",
       "      <td>NaN</td>\n",
       "      <td>*</td>\n",
       "      <td>0</td>\n",
       "      <td>1=1,2=2048,4=1</td>\n",
       "      <td>1=1,2=2048,4=1</td>\n",
       "    </tr>\n",
       "    <tr>\n",
       "      <th>1</th>\n",
       "      <td>2</td>\n",
       "      <td>1495561466</td>\n",
       "      <td>0</td>\n",
       "      <td>circ_staff</td>\n",
       "      <td>\\N</td>\n",
       "      <td>0</td>\n",
       "      <td>0</td>\n",
       "      <td>2</td>\n",
       "      <td>32512</td>\n",
       "      <td>\\N</td>\n",
       "      <td>...</td>\n",
       "      <td>1495561462</td>\n",
       "      <td>1495561463</td>\n",
       "      <td>0</td>\n",
       "      <td>NaN</td>\n",
       "      <td>NaN</td>\n",
       "      <td>NaN</td>\n",
       "      <td>*</td>\n",
       "      <td>0</td>\n",
       "      <td>1=2,2=4096,4=1</td>\n",
       "      <td>1=2,2=4096,4=1</td>\n",
       "    </tr>\n",
       "    <tr>\n",
       "      <th>2</th>\n",
       "      <td>3</td>\n",
       "      <td>1495561466</td>\n",
       "      <td>0</td>\n",
       "      <td>circ_staff</td>\n",
       "      <td>\\N</td>\n",
       "      <td>0</td>\n",
       "      <td>0</td>\n",
       "      <td>1</td>\n",
       "      <td>0</td>\n",
       "      <td>\\N</td>\n",
       "      <td>...</td>\n",
       "      <td>1495561462</td>\n",
       "      <td>1495561463</td>\n",
       "      <td>0</td>\n",
       "      <td>mic:1</td>\n",
       "      <td>6515053:1</td>\n",
       "      <td>NaN</td>\n",
       "      <td>*</td>\n",
       "      <td>0</td>\n",
       "      <td>1=1,2=2048,4=1,6=1</td>\n",
       "      <td>1=1,2=2048,4=1,6=1</td>\n",
       "    </tr>\n",
       "    <tr>\n",
       "      <th>3</th>\n",
       "      <td>6</td>\n",
       "      <td>1495562236</td>\n",
       "      <td>0</td>\n",
       "      <td>circ_staff</td>\n",
       "      <td>\\N</td>\n",
       "      <td>0</td>\n",
       "      <td>0</td>\n",
       "      <td>24</td>\n",
       "      <td>0</td>\n",
       "      <td>\\N</td>\n",
       "      <td>...</td>\n",
       "      <td>1495561462</td>\n",
       "      <td>1495562236</td>\n",
       "      <td>0</td>\n",
       "      <td>NaN</td>\n",
       "      <td>NaN</td>\n",
       "      <td>NaN</td>\n",
       "      <td>*</td>\n",
       "      <td>0</td>\n",
       "      <td>1=24,2=20480,4=1</td>\n",
       "      <td>1=24,2=20480,4=1</td>\n",
       "    </tr>\n",
       "    <tr>\n",
       "      <th>4</th>\n",
       "      <td>7</td>\n",
       "      <td>1495561604</td>\n",
       "      <td>0</td>\n",
       "      <td>circ_staff</td>\n",
       "      <td>\\N</td>\n",
       "      <td>0</td>\n",
       "      <td>0</td>\n",
       "      <td>1</td>\n",
       "      <td>0</td>\n",
       "      <td>\\N</td>\n",
       "      <td>...</td>\n",
       "      <td>1495561462</td>\n",
       "      <td>1495561604</td>\n",
       "      <td>0</td>\n",
       "      <td>NaN</td>\n",
       "      <td>NaN</td>\n",
       "      <td>NaN</td>\n",
       "      <td>*</td>\n",
       "      <td>0</td>\n",
       "      <td>1=1,2=4096,4=1</td>\n",
       "      <td>1=1,2=4096,4=1</td>\n",
       "    </tr>\n",
       "  </tbody>\n",
       "</table>\n",
       "<p>5 rows × 43 columns</p>\n",
       "</div>"
      ],
      "text/plain": [
       "   job_db_inx    mod_time  deleted     account array_task_str  \\\n",
       "0           1  1495561699        0  circ_staff             \\N   \n",
       "1           2  1495561466        0  circ_staff             \\N   \n",
       "2           3  1495561466        0  circ_staff             \\N   \n",
       "3           6  1495562236        0  circ_staff             \\N   \n",
       "4           7  1495561604        0  circ_staff             \\N   \n",
       "\n",
       "   array_max_tasks  array_task_pending  cpus_req  derived_ec derived_es  \\\n",
       "0                0                   0         1           0         \\N   \n",
       "1                0                   0         2       32512         \\N   \n",
       "2                0                   0         1           0         \\N   \n",
       "3                0                   0        24           0         \\N   \n",
       "4                0                   0         1           0         \\N   \n",
       "\n",
       "          ...          time_start    time_end  time_suspended  gres_req  \\\n",
       "0         ...          1495561399  1495561699               0       NaN   \n",
       "1         ...          1495561462  1495561463               0       NaN   \n",
       "2         ...          1495561462  1495561463               0     mic:1   \n",
       "3         ...          1495561462  1495562236               0       NaN   \n",
       "4         ...          1495561462  1495561604               0       NaN   \n",
       "\n",
       "   gres_alloc gres_used  wckey  track_steps          tres_alloc  \\\n",
       "0         NaN       NaN      *            0      1=1,2=2048,4=1   \n",
       "1         NaN       NaN      *            0      1=2,2=4096,4=1   \n",
       "2   6515053:1       NaN      *            0  1=1,2=2048,4=1,6=1   \n",
       "3         NaN       NaN      *            0    1=24,2=20480,4=1   \n",
       "4         NaN       NaN      *            0      1=1,2=4096,4=1   \n",
       "\n",
       "             tres_req  \n",
       "0      1=1,2=2048,4=1  \n",
       "1      1=2,2=4096,4=1  \n",
       "2  1=1,2=2048,4=1,6=1  \n",
       "3    1=24,2=20480,4=1  \n",
       "4      1=1,2=4096,4=1  \n",
       "\n",
       "[5 rows x 43 columns]"
      ]
     },
     "execution_count": 34,
     "metadata": {},
     "output_type": "execute_result"
    }
   ],
   "source": [
    "# df = df[df[27] == 'standard']\n",
    "df.columns = ['job_db_inx', 'mod_time', 'deleted', 'account', 'array_task_str', 'array_max_tasks',\n",
    "          'array_task_pending', 'cpus_req', 'derived_ec', 'derived_es', 'exit_code','job_name',\n",
    "          'id_assoc', 'id_array_job', 'id_array_task', 'id_block', 'id_job', 'id_qos', 'id_resv',\n",
    "          'id_wckey', 'id_user', 'id_group', 'kill_requid', 'mem_req', 'nodelist', 'nodes_alloc',\n",
    "          'node_inx', 'partition', 'priority', 'state', 'timelimit', 'time_submit', 'time_eligible',\n",
    "          'time_start', 'time_end', 'time_suspended', 'gres_req', 'gres_alloc', 'gres_used', 'wckey',\n",
    "          'track_steps', 'tres_alloc', 'tres_req']\n",
    "\n",
    "df = df[df['nodelist'] != \"None assigned\"]\n",
    "df.head()"
   ]
  },
  {
   "cell_type": "code",
   "execution_count": 36,
   "metadata": {},
   "outputs": [
    {
     "data": {
      "text/plain": [
       "7596814"
      ]
     },
     "execution_count": 36,
     "metadata": {},
     "output_type": "execute_result"
    }
   ],
   "source": [
    "len(df)"
   ]
  },
  {
   "cell_type": "code",
   "execution_count": 39,
   "metadata": {},
   "outputs": [],
   "source": [
    "df['time_wait'] = df['time_start'] - df['time_eligible']"
   ]
  },
  {
   "cell_type": "code",
   "execution_count": 40,
   "metadata": {},
   "outputs": [],
   "source": [
    "df['time_submit_datetime'] = df['time_submit'].apply(datetime.datetime.fromtimestamp)\n",
    "df['time_start_date_time'] = df['time_start'].apply(datetime.datetime.fromtimestamp)\n",
    "df['time_end_date_time'] = df['time_end'].apply(datetime.datetime.fromtimestamp)\n",
    "df['time_eligible_date_time'] = df['time_eligible'].apply(datetime.datetime.fromtimestamp)\n",
    "# df['time_wait_date_time'] = df['time_end'].apply(datetime.datetime.fromtimestamp)"
   ]
  },
  {
   "cell_type": "code",
   "execution_count": 41,
   "metadata": {},
   "outputs": [],
   "source": [
    "df['time_wait_date_time'] = df['time_start_date_time'] - df['time_eligible_date_time']"
   ]
  },
  {
   "cell_type": "code",
   "execution_count": 42,
   "metadata": {},
   "outputs": [
    {
     "data": {
      "text/plain": [
       "count                 7596814\n",
       "unique                3960695\n",
       "top       1969-12-31 19:00:00\n",
       "freq                     1281\n",
       "first     1969-12-31 19:00:00\n",
       "last      2019-03-21 13:04:57\n",
       "Name: time_end_date_time, dtype: object"
      ]
     },
     "execution_count": 42,
     "metadata": {},
     "output_type": "execute_result"
    }
   ],
   "source": [
    "df['time_end_date_time'].describe()"
   ]
  },
  {
   "cell_type": "code",
   "execution_count": 43,
   "metadata": {},
   "outputs": [],
   "source": [
    "df = df[df[\"time_end_date_time\"] != '1969-12-31 19:00:00']"
   ]
  },
  {
   "cell_type": "code",
   "execution_count": 44,
   "metadata": {},
   "outputs": [
    {
     "data": {
      "text/plain": [
       "count                 7595533\n",
       "unique                3960694\n",
       "top       2017-12-07 17:17:51\n",
       "freq                      483\n",
       "first     2017-05-23 13:44:23\n",
       "last      2019-03-21 13:04:57\n",
       "Name: time_end_date_time, dtype: object"
      ]
     },
     "execution_count": 44,
     "metadata": {},
     "output_type": "execute_result"
    }
   ],
   "source": [
    "df['time_end_date_time'].describe()"
   ]
  },
  {
   "cell_type": "code",
   "execution_count": 45,
   "metadata": {},
   "outputs": [
    {
     "data": {
      "text/plain": [
       "7595533"
      ]
     },
     "execution_count": 45,
     "metadata": {},
     "output_type": "execute_result"
    }
   ],
   "source": [
    "len(df)"
   ]
  },
  {
   "cell_type": "code",
   "execution_count": 47,
   "metadata": {},
   "outputs": [],
   "source": [
    "df1 = df[df['time_start_date_time'] >= '2018-07-12 00:00:00']\n",
    "df2 = df1[df1['time_end_date_time'] <= '2018-12-13 00:00:00']\n",
    "df2 = df2.reset_index()\n",
    "df = df2"
   ]
  },
  {
   "cell_type": "code",
   "execution_count": 48,
   "metadata": {},
   "outputs": [
    {
     "data": {
      "text/html": [
       "<div>\n",
       "<style scoped>\n",
       "    .dataframe tbody tr th:only-of-type {\n",
       "        vertical-align: middle;\n",
       "    }\n",
       "\n",
       "    .dataframe tbody tr th {\n",
       "        vertical-align: top;\n",
       "    }\n",
       "\n",
       "    .dataframe thead th {\n",
       "        text-align: right;\n",
       "    }\n",
       "</style>\n",
       "<table border=\"1\" class=\"dataframe\">\n",
       "  <thead>\n",
       "    <tr style=\"text-align: right;\">\n",
       "      <th></th>\n",
       "      <th>index</th>\n",
       "      <th>job_db_inx</th>\n",
       "      <th>mod_time</th>\n",
       "      <th>deleted</th>\n",
       "      <th>account</th>\n",
       "      <th>array_task_str</th>\n",
       "      <th>array_max_tasks</th>\n",
       "      <th>array_task_pending</th>\n",
       "      <th>cpus_req</th>\n",
       "      <th>derived_ec</th>\n",
       "      <th>...</th>\n",
       "      <th>wckey</th>\n",
       "      <th>track_steps</th>\n",
       "      <th>tres_alloc</th>\n",
       "      <th>tres_req</th>\n",
       "      <th>time_wait</th>\n",
       "      <th>time_submit_datetime</th>\n",
       "      <th>time_start_date_time</th>\n",
       "      <th>time_end_date_time</th>\n",
       "      <th>time_eligible_date_time</th>\n",
       "      <th>time_wait_date_time</th>\n",
       "    </tr>\n",
       "  </thead>\n",
       "  <tbody>\n",
       "    <tr>\n",
       "      <th>0</th>\n",
       "      <td>4470276</td>\n",
       "      <td>21601684</td>\n",
       "      <td>1538688513</td>\n",
       "      <td>0</td>\n",
       "      <td>tweber2_lab</td>\n",
       "      <td>\\N</td>\n",
       "      <td>0</td>\n",
       "      <td>0</td>\n",
       "      <td>16</td>\n",
       "      <td>0</td>\n",
       "      <td>...</td>\n",
       "      <td>*</td>\n",
       "      <td>0</td>\n",
       "      <td>1=16,2=32768,4=1</td>\n",
       "      <td>1=16,2=32768,4=1</td>\n",
       "      <td>14330563</td>\n",
       "      <td>2018-04-20 19:43:27</td>\n",
       "      <td>2018-10-03 16:28:11</td>\n",
       "      <td>2018-10-04 17:28:33</td>\n",
       "      <td>2018-04-20 19:45:28</td>\n",
       "      <td>165 days 20:42:43</td>\n",
       "    </tr>\n",
       "    <tr>\n",
       "      <th>1</th>\n",
       "      <td>5166089</td>\n",
       "      <td>24256577</td>\n",
       "      <td>1531380624</td>\n",
       "      <td>0</td>\n",
       "      <td>mmccall2_lab</td>\n",
       "      <td>\\N</td>\n",
       "      <td>0</td>\n",
       "      <td>0</td>\n",
       "      <td>24</td>\n",
       "      <td>0</td>\n",
       "      <td>...</td>\n",
       "      <td>*</td>\n",
       "      <td>0</td>\n",
       "      <td>1=24,2=49152,4=1</td>\n",
       "      <td>1=24,2=49152,4=1</td>\n",
       "      <td>743005</td>\n",
       "      <td>2018-07-03 12:00:10</td>\n",
       "      <td>2018-07-12 02:23:38</td>\n",
       "      <td>2018-07-12 03:30:24</td>\n",
       "      <td>2018-07-03 12:00:13</td>\n",
       "      <td>8 days 14:23:25</td>\n",
       "    </tr>\n",
       "    <tr>\n",
       "      <th>2</th>\n",
       "      <td>5166090</td>\n",
       "      <td>24256578</td>\n",
       "      <td>1531394110</td>\n",
       "      <td>0</td>\n",
       "      <td>mmccall2_lab</td>\n",
       "      <td>\\N</td>\n",
       "      <td>0</td>\n",
       "      <td>0</td>\n",
       "      <td>24</td>\n",
       "      <td>0</td>\n",
       "      <td>...</td>\n",
       "      <td>*</td>\n",
       "      <td>0</td>\n",
       "      <td>1=24,2=49152,4=1</td>\n",
       "      <td>1=24,2=49152,4=1</td>\n",
       "      <td>756513</td>\n",
       "      <td>2018-07-03 12:00:10</td>\n",
       "      <td>2018-07-12 06:08:46</td>\n",
       "      <td>2018-07-12 07:15:10</td>\n",
       "      <td>2018-07-03 12:00:13</td>\n",
       "      <td>8 days 18:08:33</td>\n",
       "    </tr>\n",
       "    <tr>\n",
       "      <th>3</th>\n",
       "      <td>5166091</td>\n",
       "      <td>24256579</td>\n",
       "      <td>1531408622</td>\n",
       "      <td>0</td>\n",
       "      <td>mmccall2_lab</td>\n",
       "      <td>\\N</td>\n",
       "      <td>0</td>\n",
       "      <td>0</td>\n",
       "      <td>24</td>\n",
       "      <td>0</td>\n",
       "      <td>...</td>\n",
       "      <td>*</td>\n",
       "      <td>0</td>\n",
       "      <td>1=24,2=49152,4=1</td>\n",
       "      <td>1=24,2=49152,4=1</td>\n",
       "      <td>767643</td>\n",
       "      <td>2018-07-03 12:00:10</td>\n",
       "      <td>2018-07-12 09:14:16</td>\n",
       "      <td>2018-07-12 11:17:02</td>\n",
       "      <td>2018-07-03 12:00:13</td>\n",
       "      <td>8 days 21:14:03</td>\n",
       "    </tr>\n",
       "    <tr>\n",
       "      <th>4</th>\n",
       "      <td>5166092</td>\n",
       "      <td>24256580</td>\n",
       "      <td>1531421275</td>\n",
       "      <td>0</td>\n",
       "      <td>mmccall2_lab</td>\n",
       "      <td>\\N</td>\n",
       "      <td>0</td>\n",
       "      <td>0</td>\n",
       "      <td>24</td>\n",
       "      <td>0</td>\n",
       "      <td>...</td>\n",
       "      <td>*</td>\n",
       "      <td>0</td>\n",
       "      <td>1=24,2=49152,4=1</td>\n",
       "      <td>1=24,2=49152,4=1</td>\n",
       "      <td>783654</td>\n",
       "      <td>2018-07-03 12:00:10</td>\n",
       "      <td>2018-07-12 13:41:07</td>\n",
       "      <td>2018-07-12 14:47:55</td>\n",
       "      <td>2018-07-03 12:00:13</td>\n",
       "      <td>9 days 01:40:54</td>\n",
       "    </tr>\n",
       "  </tbody>\n",
       "</table>\n",
       "<p>5 rows × 50 columns</p>\n",
       "</div>"
      ],
      "text/plain": [
       "     index  job_db_inx    mod_time  deleted       account array_task_str  \\\n",
       "0  4470276    21601684  1538688513        0   tweber2_lab             \\N   \n",
       "1  5166089    24256577  1531380624        0  mmccall2_lab             \\N   \n",
       "2  5166090    24256578  1531394110        0  mmccall2_lab             \\N   \n",
       "3  5166091    24256579  1531408622        0  mmccall2_lab             \\N   \n",
       "4  5166092    24256580  1531421275        0  mmccall2_lab             \\N   \n",
       "\n",
       "   array_max_tasks  array_task_pending  cpus_req  derived_ec  \\\n",
       "0                0                   0        16           0   \n",
       "1                0                   0        24           0   \n",
       "2                0                   0        24           0   \n",
       "3                0                   0        24           0   \n",
       "4                0                   0        24           0   \n",
       "\n",
       "          ...          wckey  track_steps        tres_alloc          tres_req  \\\n",
       "0         ...              *            0  1=16,2=32768,4=1  1=16,2=32768,4=1   \n",
       "1         ...              *            0  1=24,2=49152,4=1  1=24,2=49152,4=1   \n",
       "2         ...              *            0  1=24,2=49152,4=1  1=24,2=49152,4=1   \n",
       "3         ...              *            0  1=24,2=49152,4=1  1=24,2=49152,4=1   \n",
       "4         ...              *            0  1=24,2=49152,4=1  1=24,2=49152,4=1   \n",
       "\n",
       "   time_wait  time_submit_datetime time_start_date_time  time_end_date_time  \\\n",
       "0   14330563   2018-04-20 19:43:27  2018-10-03 16:28:11 2018-10-04 17:28:33   \n",
       "1     743005   2018-07-03 12:00:10  2018-07-12 02:23:38 2018-07-12 03:30:24   \n",
       "2     756513   2018-07-03 12:00:10  2018-07-12 06:08:46 2018-07-12 07:15:10   \n",
       "3     767643   2018-07-03 12:00:10  2018-07-12 09:14:16 2018-07-12 11:17:02   \n",
       "4     783654   2018-07-03 12:00:10  2018-07-12 13:41:07 2018-07-12 14:47:55   \n",
       "\n",
       "   time_eligible_date_time  time_wait_date_time  \n",
       "0      2018-04-20 19:45:28    165 days 20:42:43  \n",
       "1      2018-07-03 12:00:13      8 days 14:23:25  \n",
       "2      2018-07-03 12:00:13      8 days 18:08:33  \n",
       "3      2018-07-03 12:00:13      8 days 21:14:03  \n",
       "4      2018-07-03 12:00:13      9 days 01:40:54  \n",
       "\n",
       "[5 rows x 50 columns]"
      ]
     },
     "execution_count": 48,
     "metadata": {},
     "output_type": "execute_result"
    }
   ],
   "source": [
    "df.head()"
   ]
  },
  {
   "cell_type": "code",
   "execution_count": 49,
   "metadata": {},
   "outputs": [],
   "source": [
    "memory_req = []\n",
    "s = \"\"\n",
    "for i in df['tres_req']:\n",
    "    try:\n",
    "        s = re.findall('[,]*2=+[\\d]+[,]*', i)\n",
    "        s = s[0].strip(\",\")\n",
    "        s = s[2:]\n",
    "        memory_req.append(int(s))\n",
    "    except:\n",
    "        memory_req.append(np.nan)\n",
    "\n",
    "memory_alloc = []\n",
    "s = \"\"\n",
    "for i in df['tres_alloc']:\n",
    "    try:\n",
    "        s = re.findall('[,]*2=+[\\d]+[,]*', i)\n",
    "        s = s[0].strip(\",\")\n",
    "        s = s[2:]\n",
    "        memory_alloc.append(int(s))\n",
    "    except:\n",
    "        memory_alloc.append(np.nan)\n",
    "        \n",
    "df['requested_memory_tres'] = memory_req\n",
    "df['allocated_memory_tres'] = memory_alloc\n",
    "\n",
    "\n",
    "cpu_req = []\n",
    "s = \"\"\n",
    "for i in df['tres_req']:\n",
    "    try:\n",
    "        s = re.findall('[,]*1=+[\\d]+[,]*', i)\n",
    "        s = s[0].strip(\",\")\n",
    "        s = s[2:]\n",
    "        cpu_req.append(int(s))\n",
    "    except:\n",
    "        cpu_req.append(np.nan)\n",
    "\n",
    "cpu_alloc = []\n",
    "s = \"\"\n",
    "for i in df['tres_alloc']:\n",
    "    try:\n",
    "        s = re.findall('[,]*1=+[\\d]+[,]*', i)\n",
    "        s = s[0].strip(\",\")\n",
    "        s = s[2:]\n",
    "        cpu_alloc.append(int(s))\n",
    "    except:\n",
    "        cpu_alloc.append(np.nan)\n",
    "        \n",
    "df['requested_cpu_tres'] = cpu_req\n",
    "df['allocated_cpu_tres'] = cpu_alloc\n",
    "\n",
    "\n",
    "gres_req = []\n",
    "s = \"\"\n",
    "for i in df['tres_req']:\n",
    "    try:\n",
    "        s = re.findall('[,]*5=+[\\d]+[,]*', i)\n",
    "        s = s[0].strip(\",\")\n",
    "        s = s[2:]\n",
    "        gres_req.append(int(s))\n",
    "    except:\n",
    "        gres_req.append(np.nan)\n",
    "\n",
    "gres_alloc = []\n",
    "s = \"\"\n",
    "for i in df['tres_alloc']:\n",
    "    try:\n",
    "        s = re.findall('[,]*5=+[\\d]+[,]*', i)\n",
    "        s = s[0].strip(\",\")\n",
    "        s = s[2:]\n",
    "        gres_alloc.append(int(s))\n",
    "    except:\n",
    "        gres_alloc.append(np.nan)\n",
    "        \n",
    "df['requested_gres_tres'] = gres_req\n",
    "df['allocated_gres_tres'] = gres_alloc\n",
    "\n",
    "\n",
    "node_req = []\n",
    "s = \"\"\n",
    "for i in df['tres_req']:\n",
    "    try:\n",
    "        s = re.findall('[,]*4=+[\\d]+[,]*', i)\n",
    "        s = s[0].strip(\",\")\n",
    "        s = s[2:]\n",
    "        node_req.append(int(s))\n",
    "    except:\n",
    "        node_req.append(np.nan)\n",
    "\n",
    "node_alloc = []\n",
    "s = \"\"\n",
    "for i in df['tres_alloc']:\n",
    "    try:\n",
    "        s = re.findall('[,]*4=+[\\d]+[,]*', i)\n",
    "        s = s[0].strip(\",\")\n",
    "        s = s[2:]\n",
    "        node_alloc.append(int(s))\n",
    "    except:\n",
    "        node_alloc.append(np.nan)\n",
    "        \n",
    "df['requested_node_tres'] = node_req\n",
    "df['allocated_node_tres'] = node_alloc"
   ]
  },
  {
   "cell_type": "code",
   "execution_count": 50,
   "metadata": {},
   "outputs": [
    {
     "data": {
      "text/html": [
       "<div>\n",
       "<style scoped>\n",
       "    .dataframe tbody tr th:only-of-type {\n",
       "        vertical-align: middle;\n",
       "    }\n",
       "\n",
       "    .dataframe tbody tr th {\n",
       "        vertical-align: top;\n",
       "    }\n",
       "\n",
       "    .dataframe thead th {\n",
       "        text-align: right;\n",
       "    }\n",
       "</style>\n",
       "<table border=\"1\" class=\"dataframe\">\n",
       "  <thead>\n",
       "    <tr style=\"text-align: right;\">\n",
       "      <th></th>\n",
       "      <th>index</th>\n",
       "      <th>job_db_inx</th>\n",
       "      <th>mod_time</th>\n",
       "      <th>deleted</th>\n",
       "      <th>account</th>\n",
       "      <th>array_task_str</th>\n",
       "      <th>array_max_tasks</th>\n",
       "      <th>array_task_pending</th>\n",
       "      <th>cpus_req</th>\n",
       "      <th>derived_ec</th>\n",
       "      <th>...</th>\n",
       "      <th>time_start_date_time</th>\n",
       "      <th>time_end_date_time</th>\n",
       "      <th>time_eligible_date_time</th>\n",
       "      <th>time_wait_date_time</th>\n",
       "      <th>requested_memory_tres</th>\n",
       "      <th>allocated_memory_tres</th>\n",
       "      <th>requested_cpu_tres</th>\n",
       "      <th>allocated_cpu_tres</th>\n",
       "      <th>requested_node_tres</th>\n",
       "      <th>allocated_node_tres</th>\n",
       "    </tr>\n",
       "  </thead>\n",
       "  <tbody>\n",
       "    <tr>\n",
       "      <th>0</th>\n",
       "      <td>4470276</td>\n",
       "      <td>21601684</td>\n",
       "      <td>1538688513</td>\n",
       "      <td>0</td>\n",
       "      <td>tweber2_lab</td>\n",
       "      <td>\\N</td>\n",
       "      <td>0</td>\n",
       "      <td>0</td>\n",
       "      <td>16</td>\n",
       "      <td>0</td>\n",
       "      <td>...</td>\n",
       "      <td>2018-10-03 16:28:11</td>\n",
       "      <td>2018-10-04 17:28:33</td>\n",
       "      <td>2018-04-20 19:45:28</td>\n",
       "      <td>165 days 20:42:43</td>\n",
       "      <td>32768.0</td>\n",
       "      <td>32768.0</td>\n",
       "      <td>16.0</td>\n",
       "      <td>16.0</td>\n",
       "      <td>1.0</td>\n",
       "      <td>1.0</td>\n",
       "    </tr>\n",
       "    <tr>\n",
       "      <th>1</th>\n",
       "      <td>5166089</td>\n",
       "      <td>24256577</td>\n",
       "      <td>1531380624</td>\n",
       "      <td>0</td>\n",
       "      <td>mmccall2_lab</td>\n",
       "      <td>\\N</td>\n",
       "      <td>0</td>\n",
       "      <td>0</td>\n",
       "      <td>24</td>\n",
       "      <td>0</td>\n",
       "      <td>...</td>\n",
       "      <td>2018-07-12 02:23:38</td>\n",
       "      <td>2018-07-12 03:30:24</td>\n",
       "      <td>2018-07-03 12:00:13</td>\n",
       "      <td>8 days 14:23:25</td>\n",
       "      <td>49152.0</td>\n",
       "      <td>49152.0</td>\n",
       "      <td>24.0</td>\n",
       "      <td>24.0</td>\n",
       "      <td>1.0</td>\n",
       "      <td>1.0</td>\n",
       "    </tr>\n",
       "    <tr>\n",
       "      <th>2</th>\n",
       "      <td>5166090</td>\n",
       "      <td>24256578</td>\n",
       "      <td>1531394110</td>\n",
       "      <td>0</td>\n",
       "      <td>mmccall2_lab</td>\n",
       "      <td>\\N</td>\n",
       "      <td>0</td>\n",
       "      <td>0</td>\n",
       "      <td>24</td>\n",
       "      <td>0</td>\n",
       "      <td>...</td>\n",
       "      <td>2018-07-12 06:08:46</td>\n",
       "      <td>2018-07-12 07:15:10</td>\n",
       "      <td>2018-07-03 12:00:13</td>\n",
       "      <td>8 days 18:08:33</td>\n",
       "      <td>49152.0</td>\n",
       "      <td>49152.0</td>\n",
       "      <td>24.0</td>\n",
       "      <td>24.0</td>\n",
       "      <td>1.0</td>\n",
       "      <td>1.0</td>\n",
       "    </tr>\n",
       "    <tr>\n",
       "      <th>3</th>\n",
       "      <td>5166091</td>\n",
       "      <td>24256579</td>\n",
       "      <td>1531408622</td>\n",
       "      <td>0</td>\n",
       "      <td>mmccall2_lab</td>\n",
       "      <td>\\N</td>\n",
       "      <td>0</td>\n",
       "      <td>0</td>\n",
       "      <td>24</td>\n",
       "      <td>0</td>\n",
       "      <td>...</td>\n",
       "      <td>2018-07-12 09:14:16</td>\n",
       "      <td>2018-07-12 11:17:02</td>\n",
       "      <td>2018-07-03 12:00:13</td>\n",
       "      <td>8 days 21:14:03</td>\n",
       "      <td>49152.0</td>\n",
       "      <td>49152.0</td>\n",
       "      <td>24.0</td>\n",
       "      <td>24.0</td>\n",
       "      <td>1.0</td>\n",
       "      <td>1.0</td>\n",
       "    </tr>\n",
       "    <tr>\n",
       "      <th>4</th>\n",
       "      <td>5166092</td>\n",
       "      <td>24256580</td>\n",
       "      <td>1531421275</td>\n",
       "      <td>0</td>\n",
       "      <td>mmccall2_lab</td>\n",
       "      <td>\\N</td>\n",
       "      <td>0</td>\n",
       "      <td>0</td>\n",
       "      <td>24</td>\n",
       "      <td>0</td>\n",
       "      <td>...</td>\n",
       "      <td>2018-07-12 13:41:07</td>\n",
       "      <td>2018-07-12 14:47:55</td>\n",
       "      <td>2018-07-03 12:00:13</td>\n",
       "      <td>9 days 01:40:54</td>\n",
       "      <td>49152.0</td>\n",
       "      <td>49152.0</td>\n",
       "      <td>24.0</td>\n",
       "      <td>24.0</td>\n",
       "      <td>1.0</td>\n",
       "      <td>1.0</td>\n",
       "    </tr>\n",
       "  </tbody>\n",
       "</table>\n",
       "<p>5 rows × 52 columns</p>\n",
       "</div>"
      ],
      "text/plain": [
       "     index  job_db_inx    mod_time  deleted       account array_task_str  \\\n",
       "0  4470276    21601684  1538688513        0   tweber2_lab             \\N   \n",
       "1  5166089    24256577  1531380624        0  mmccall2_lab             \\N   \n",
       "2  5166090    24256578  1531394110        0  mmccall2_lab             \\N   \n",
       "3  5166091    24256579  1531408622        0  mmccall2_lab             \\N   \n",
       "4  5166092    24256580  1531421275        0  mmccall2_lab             \\N   \n",
       "\n",
       "   array_max_tasks  array_task_pending  cpus_req  derived_ec  \\\n",
       "0                0                   0        16           0   \n",
       "1                0                   0        24           0   \n",
       "2                0                   0        24           0   \n",
       "3                0                   0        24           0   \n",
       "4                0                   0        24           0   \n",
       "\n",
       "          ...          time_start_date_time  time_end_date_time  \\\n",
       "0         ...           2018-10-03 16:28:11 2018-10-04 17:28:33   \n",
       "1         ...           2018-07-12 02:23:38 2018-07-12 03:30:24   \n",
       "2         ...           2018-07-12 06:08:46 2018-07-12 07:15:10   \n",
       "3         ...           2018-07-12 09:14:16 2018-07-12 11:17:02   \n",
       "4         ...           2018-07-12 13:41:07 2018-07-12 14:47:55   \n",
       "\n",
       "  time_eligible_date_time  time_wait_date_time  requested_memory_tres  \\\n",
       "0     2018-04-20 19:45:28    165 days 20:42:43                32768.0   \n",
       "1     2018-07-03 12:00:13      8 days 14:23:25                49152.0   \n",
       "2     2018-07-03 12:00:13      8 days 18:08:33                49152.0   \n",
       "3     2018-07-03 12:00:13      8 days 21:14:03                49152.0   \n",
       "4     2018-07-03 12:00:13      9 days 01:40:54                49152.0   \n",
       "\n",
       "   allocated_memory_tres requested_cpu_tres  allocated_cpu_tres  \\\n",
       "0                32768.0               16.0                16.0   \n",
       "1                49152.0               24.0                24.0   \n",
       "2                49152.0               24.0                24.0   \n",
       "3                49152.0               24.0                24.0   \n",
       "4                49152.0               24.0                24.0   \n",
       "\n",
       "   requested_node_tres  allocated_node_tres  \n",
       "0                  1.0                  1.0  \n",
       "1                  1.0                  1.0  \n",
       "2                  1.0                  1.0  \n",
       "3                  1.0                  1.0  \n",
       "4                  1.0                  1.0  \n",
       "\n",
       "[5 rows x 52 columns]"
      ]
     },
     "execution_count": 50,
     "metadata": {},
     "output_type": "execute_result"
    }
   ],
   "source": [
    "df = df.drop([\"tres_alloc\"], axis=1)\n",
    "df = df.drop([\"tres_req\"], axis=1)\n",
    "df = df.drop([\"gres_alloc\"], axis=1)\n",
    "df = df.drop([\"gres_req\"], axis=1)\n",
    "df = df.drop([\"allocated_gres_tres\"], axis=1)\n",
    "df = df.drop([\"requested_gres_tres\"], axis=1)\n",
    "df.head()"
   ]
  },
  {
   "cell_type": "code",
   "execution_count": 55,
   "metadata": {},
   "outputs": [],
   "source": [
    "import re\n",
    "def expand_nodes(s):\n",
    "    nodes = []\n",
    "    m = re.match(r'([a-zA-Z]+)(.*)',s)\n",
    "    (prefix,numbers) = m.group(1,2)\n",
    "    if(numbers[0]=='['):\n",
    "        ranges=numbers[1:-1].split(',')\n",
    "    else:\n",
    "        ranges=[numbers]    \n",
    "    for r in ranges:\n",
    "        m=re.match(r'(\\d+)-(\\d+)',r)\n",
    "        if m:\n",
    "            (first,last)=m.group(1,2)\n",
    "        else:\n",
    "            first=r\n",
    "            last=r            \n",
    "        nd=len(first)            \n",
    "        for n in range(int(first),int(last)+1):           \n",
    "            nodes.append('%%s%%%d.%dd'%(nd,nd)%(prefix,n))\n",
    "    return nodes"
   ]
  },
  {
   "cell_type": "code",
   "execution_count": 56,
   "metadata": {},
   "outputs": [],
   "source": [
    "node_list = list(df['nodelist'])\n",
    "\n",
    "for i in range(len(node_list)):\n",
    "    if (',' in node_list[i]) and ('[' not in node_list[i]):\n",
    "        splited = node_list[i].split(',')\n",
    "        splited = [expand_nodes(j) for j in splited]\n",
    "        splited = list(chain.from_iterable(splited))\n",
    "        node_list[i] = list(set(splited))\n",
    "    else:\n",
    "        node_list[i] = list(set(expand_nodes(node_list[i])))\n",
    "    \n",
    "df['nodelist'] = node_list"
   ]
  },
  {
   "cell_type": "code",
   "execution_count": 57,
   "metadata": {},
   "outputs": [
    {
     "data": {
      "text/plain": [
       "0    [bhd0017]\n",
       "1    [bhc0108]\n",
       "2    [bhc0107]\n",
       "3    [bhc0187]\n",
       "Name: nodelist, dtype: object"
      ]
     },
     "execution_count": 57,
     "metadata": {},
     "output_type": "execute_result"
    }
   ],
   "source": [
    "df['nodelist'].iloc[0:4]"
   ]
  },
  {
   "cell_type": "code",
   "execution_count": 59,
   "metadata": {},
   "outputs": [
    {
     "data": {
      "text/html": [
       "<div>\n",
       "<style scoped>\n",
       "    .dataframe tbody tr th:only-of-type {\n",
       "        vertical-align: middle;\n",
       "    }\n",
       "\n",
       "    .dataframe tbody tr th {\n",
       "        vertical-align: top;\n",
       "    }\n",
       "\n",
       "    .dataframe thead th {\n",
       "        text-align: right;\n",
       "    }\n",
       "</style>\n",
       "<table border=\"1\" class=\"dataframe\">\n",
       "  <thead>\n",
       "    <tr style=\"text-align: right;\">\n",
       "      <th></th>\n",
       "      <th>Time Hours</th>\n",
       "    </tr>\n",
       "  </thead>\n",
       "  <tbody>\n",
       "    <tr>\n",
       "      <th>0</th>\n",
       "      <td>2018-07-12 01:00:00</td>\n",
       "    </tr>\n",
       "    <tr>\n",
       "      <th>1</th>\n",
       "      <td>2018-07-12 02:00:00</td>\n",
       "    </tr>\n",
       "    <tr>\n",
       "      <th>2</th>\n",
       "      <td>2018-07-12 03:00:00</td>\n",
       "    </tr>\n",
       "    <tr>\n",
       "      <th>3</th>\n",
       "      <td>2018-07-12 04:00:00</td>\n",
       "    </tr>\n",
       "    <tr>\n",
       "      <th>4</th>\n",
       "      <td>2018-07-12 05:00:00</td>\n",
       "    </tr>\n",
       "  </tbody>\n",
       "</table>\n",
       "</div>"
      ],
      "text/plain": [
       "           Time Hours\n",
       "0 2018-07-12 01:00:00\n",
       "1 2018-07-12 02:00:00\n",
       "2 2018-07-12 03:00:00\n",
       "3 2018-07-12 04:00:00\n",
       "4 2018-07-12 05:00:00"
      ]
     },
     "execution_count": 59,
     "metadata": {},
     "output_type": "execute_result"
    }
   ],
   "source": [
    "x = []\n",
    "start = datetime.datetime.strptime('2018-07-12 00:00:00', '%Y-%m-%d %H:%M:%S')\n",
    "end = datetime.datetime.strptime('2018-12-12 00:00:00', '%Y-%m-%d %H:%M:%S')\n",
    "time = start\n",
    "\n",
    "while time != end:\n",
    "    time = time + datetime.timedelta(hours=1)\n",
    "    x.append(time)\n",
    "df_utilization = pd.DataFrame()\n",
    "df_utilization['Time Hours'] = x\n",
    "df_utilization.head()"
   ]
  },
  {
   "cell_type": "code",
   "execution_count": 60,
   "metadata": {},
   "outputs": [
    {
     "data": {
      "text/plain": [
       "3672"
      ]
     },
     "execution_count": 60,
     "metadata": {},
     "output_type": "execute_result"
    }
   ],
   "source": [
    "len(df_utilization['Time Hours'])"
   ]
  },
  {
   "cell_type": "code",
   "execution_count": 61,
   "metadata": {},
   "outputs": [],
   "source": [
    "df_node_list = pd.read_table('nodes.csv', sep=\" \", header=None)\n",
    "df_node_list.columns = ['NODELIST', 'CPUS', 'MEMORY', 'GRES']\n",
    "df_node_list.drop(df_node_list.tail(1).index,inplace=True)\n",
    "df_node_list = df_node_list.drop(['GRES'], axis=1)\n",
    "df_node_list['CPUS'] = df_node_list['CPUS'].apply(int)\n",
    "df_node_list['MEMORY'] = df_node_list['MEMORY'].apply(int)\n",
    "df_node_list.head()\n",
    "df_node_list.to_csv(\"node_list.csv\")"
   ]
  },
  {
   "cell_type": "code",
   "execution_count": 62,
   "metadata": {},
   "outputs": [
    {
     "data": {
      "text/html": [
       "<div>\n",
       "<style scoped>\n",
       "    .dataframe tbody tr th:only-of-type {\n",
       "        vertical-align: middle;\n",
       "    }\n",
       "\n",
       "    .dataframe tbody tr th {\n",
       "        vertical-align: top;\n",
       "    }\n",
       "\n",
       "    .dataframe thead th {\n",
       "        text-align: right;\n",
       "    }\n",
       "</style>\n",
       "<table border=\"1\" class=\"dataframe\">\n",
       "  <thead>\n",
       "    <tr style=\"text-align: right;\">\n",
       "      <th></th>\n",
       "      <th>NODELIST</th>\n",
       "      <th>CPUS</th>\n",
       "      <th>MEMORY</th>\n",
       "    </tr>\n",
       "  </thead>\n",
       "  <tbody>\n",
       "  </tbody>\n",
       "</table>\n",
       "</div>"
      ],
      "text/plain": [
       "Empty DataFrame\n",
       "Columns: [NODELIST, CPUS, MEMORY]\n",
       "Index: []"
      ]
     },
     "execution_count": 62,
     "metadata": {},
     "output_type": "execute_result"
    }
   ],
   "source": [
    "df_node_list[df_node_list['NODELIST'] == 'bhx0065']"
   ]
  },
  {
   "cell_type": "code",
   "execution_count": 63,
   "metadata": {},
   "outputs": [
    {
     "data": {
      "text/plain": [
       "8856"
      ]
     },
     "execution_count": 63,
     "metadata": {},
     "output_type": "execute_result"
    }
   ],
   "source": [
    "dict_cpu = dict(zip(df_node_list.NODELIST, df_node_list.CPUS))\n",
    "n = list(df['nodelist'])\n",
    "skippers = list()\n",
    "\n",
    "unested_n = list(chain.from_iterable(n))\n",
    "unested_n = list(set(unested_n))\n",
    "cpu = 0\n",
    "\n",
    "dic_node_list = {}\n",
    "for i in unested_n:\n",
    "    try:\n",
    "        cpu += dict_cpu[i]\n",
    "        dic_node_list[i] = dict_cpu[i]\n",
    "    except:\n",
    "        skippers.append(i)\n",
    "cpu"
   ]
  },
  {
   "cell_type": "code",
   "execution_count": 64,
   "metadata": {},
   "outputs": [],
   "source": [
    "skippers = list(set(skippers))"
   ]
  },
  {
   "cell_type": "code",
   "execution_count": 65,
   "metadata": {},
   "outputs": [
    {
     "data": {
      "text/plain": [
       "['bhd0037',\n",
       " 'bhx0066',\n",
       " 'bhx0064',\n",
       " 'bhx0049',\n",
       " 'bhx0067',\n",
       " 'bhx0062',\n",
       " 'bhx0063',\n",
       " 'bhx0065',\n",
       " 'bhx0061']"
      ]
     },
     "execution_count": 65,
     "metadata": {},
     "output_type": "execute_result"
    }
   ],
   "source": [
    "skippers"
   ]
  },
  {
   "cell_type": "code",
   "execution_count": 66,
   "metadata": {},
   "outputs": [],
   "source": [
    "df_node_being_used = pd.DataFrame(list(dic_node_list.items()), columns=['Node', 'CPUS'])"
   ]
  },
  {
   "cell_type": "code",
   "execution_count": 67,
   "metadata": {},
   "outputs": [
    {
     "data": {
      "text/html": [
       "<div>\n",
       "<style scoped>\n",
       "    .dataframe tbody tr th:only-of-type {\n",
       "        vertical-align: middle;\n",
       "    }\n",
       "\n",
       "    .dataframe tbody tr th {\n",
       "        vertical-align: top;\n",
       "    }\n",
       "\n",
       "    .dataframe thead th {\n",
       "        text-align: right;\n",
       "    }\n",
       "</style>\n",
       "<table border=\"1\" class=\"dataframe\">\n",
       "  <thead>\n",
       "    <tr style=\"text-align: right;\">\n",
       "      <th></th>\n",
       "      <th>Node</th>\n",
       "      <th>CPUS</th>\n",
       "    </tr>\n",
       "  </thead>\n",
       "  <tbody>\n",
       "    <tr>\n",
       "      <th>0</th>\n",
       "      <td>bhd0023</td>\n",
       "      <td>36</td>\n",
       "    </tr>\n",
       "    <tr>\n",
       "      <th>1</th>\n",
       "      <td>bhc0002</td>\n",
       "      <td>24</td>\n",
       "    </tr>\n",
       "    <tr>\n",
       "      <th>2</th>\n",
       "      <td>bhc0027</td>\n",
       "      <td>24</td>\n",
       "    </tr>\n",
       "    <tr>\n",
       "      <th>3</th>\n",
       "      <td>bhd0009</td>\n",
       "      <td>24</td>\n",
       "    </tr>\n",
       "    <tr>\n",
       "      <th>4</th>\n",
       "      <td>bhg0016</td>\n",
       "      <td>24</td>\n",
       "    </tr>\n",
       "  </tbody>\n",
       "</table>\n",
       "</div>"
      ],
      "text/plain": [
       "      Node  CPUS\n",
       "0  bhd0023    36\n",
       "1  bhc0002    24\n",
       "2  bhc0027    24\n",
       "3  bhd0009    24\n",
       "4  bhg0016    24"
      ]
     },
     "execution_count": 67,
     "metadata": {},
     "output_type": "execute_result"
    }
   ],
   "source": [
    "df_node_being_used.head()"
   ]
  },
  {
   "cell_type": "code",
   "execution_count": 68,
   "metadata": {},
   "outputs": [
    {
     "data": {
      "text/plain": [
       "362"
      ]
     },
     "execution_count": 68,
     "metadata": {},
     "output_type": "execute_result"
    }
   ],
   "source": [
    "len(df_node_being_used)"
   ]
  },
  {
   "cell_type": "code",
   "execution_count": 34,
   "metadata": {},
   "outputs": [],
   "source": [
    "df_node_being_used.to_csv(\"362_node_being_used.csv\")"
   ]
  },
  {
   "cell_type": "code",
   "execution_count": 69,
   "metadata": {},
   "outputs": [],
   "source": [
    "node_list_being_used = list(df_node_being_used['Node'])"
   ]
  },
  {
   "cell_type": "code",
   "execution_count": 70,
   "metadata": {},
   "outputs": [],
   "source": [
    "master_node_list = list(df_node_list['NODELIST'])"
   ]
  },
  {
   "cell_type": "code",
   "execution_count": 71,
   "metadata": {},
   "outputs": [],
   "source": [
    "dic_node_list_not_used = {}"
   ]
  },
  {
   "cell_type": "code",
   "execution_count": 72,
   "metadata": {},
   "outputs": [],
   "source": [
    "for i in master_node_list:\n",
    "    if i not in node_list_being_used:\n",
    "        dic_node_list_not_used[i] = dict_cpu[i]"
   ]
  },
  {
   "cell_type": "code",
   "execution_count": 73,
   "metadata": {},
   "outputs": [
    {
     "data": {
      "text/html": [
       "<div>\n",
       "<style scoped>\n",
       "    .dataframe tbody tr th:only-of-type {\n",
       "        vertical-align: middle;\n",
       "    }\n",
       "\n",
       "    .dataframe tbody tr th {\n",
       "        vertical-align: top;\n",
       "    }\n",
       "\n",
       "    .dataframe thead th {\n",
       "        text-align: right;\n",
       "    }\n",
       "</style>\n",
       "<table border=\"1\" class=\"dataframe\">\n",
       "  <thead>\n",
       "    <tr style=\"text-align: right;\">\n",
       "      <th></th>\n",
       "      <th>Node</th>\n",
       "      <th>CPUS</th>\n",
       "    </tr>\n",
       "  </thead>\n",
       "  <tbody>\n",
       "    <tr>\n",
       "      <th>0</th>\n",
       "      <td>bhc0001</td>\n",
       "      <td>24</td>\n",
       "    </tr>\n",
       "    <tr>\n",
       "      <th>1</th>\n",
       "      <td>bhc0005</td>\n",
       "      <td>24</td>\n",
       "    </tr>\n",
       "    <tr>\n",
       "      <th>2</th>\n",
       "      <td>bhc0010</td>\n",
       "      <td>24</td>\n",
       "    </tr>\n",
       "    <tr>\n",
       "      <th>3</th>\n",
       "      <td>bhc0062</td>\n",
       "      <td>24</td>\n",
       "    </tr>\n",
       "    <tr>\n",
       "      <th>4</th>\n",
       "      <td>bhc0066</td>\n",
       "      <td>24</td>\n",
       "    </tr>\n",
       "  </tbody>\n",
       "</table>\n",
       "</div>"
      ],
      "text/plain": [
       "      Node  CPUS\n",
       "0  bhc0001    24\n",
       "1  bhc0005    24\n",
       "2  bhc0010    24\n",
       "3  bhc0062    24\n",
       "4  bhc0066    24"
      ]
     },
     "execution_count": 73,
     "metadata": {},
     "output_type": "execute_result"
    }
   ],
   "source": [
    "df_not_node_being_used = pd.DataFrame(list(dic_node_list_not_used.items()), columns=['Node', 'CPUS'])\n",
    "df_not_node_being_used.head()"
   ]
  },
  {
   "cell_type": "code",
   "execution_count": 74,
   "metadata": {},
   "outputs": [
    {
     "data": {
      "text/plain": [
       "51"
      ]
     },
     "execution_count": 74,
     "metadata": {},
     "output_type": "execute_result"
    }
   ],
   "source": [
    "len(df_not_node_being_used)"
   ]
  },
  {
   "cell_type": "code",
   "execution_count": 41,
   "metadata": {},
   "outputs": [],
   "source": [
    "df_not_node_being_used.to_csv(\"51_node_being_used.csv\")"
   ]
  },
  {
   "cell_type": "code",
   "execution_count": 75,
   "metadata": {},
   "outputs": [],
   "source": [
    "start_times = list(df['time_start_date_time'])\n",
    "end_times = list(df['time_end_date_time'])\n",
    "cpus_being_used = list(df['allocated_cpu_tres'])\n",
    "wait_time_list = list(df['time_wait_date_time'])"
   ]
  },
  {
   "cell_type": "code",
   "execution_count": 76,
   "metadata": {},
   "outputs": [],
   "source": [
    "wait_time_list = [i.days * 24 + i.seconds // 3600 for i in wait_time_list]"
   ]
  },
  {
   "cell_type": "code",
   "execution_count": 77,
   "metadata": {},
   "outputs": [],
   "source": [
    "nodes_list = list(df['nodelist'])\n",
    "node_list = node_list[0:10]"
   ]
  },
  {
   "cell_type": "code",
   "execution_count": 78,
   "metadata": {
    "scrolled": true
   },
   "outputs": [
    {
     "data": {
      "text/plain": [
       "['bhd0017']"
      ]
     },
     "execution_count": 78,
     "metadata": {},
     "output_type": "execute_result"
    }
   ],
   "source": [
    "node_list[0]"
   ]
  },
  {
   "cell_type": "code",
   "execution_count": 96,
   "metadata": {},
   "outputs": [
    {
     "data": {
      "text/plain": [
       "1711200"
      ]
     },
     "execution_count": 96,
     "metadata": {},
     "output_type": "execute_result"
    }
   ],
   "source": [
    "len(df)"
   ]
  },
  {
   "cell_type": "code",
   "execution_count": 79,
   "metadata": {},
   "outputs": [],
   "source": [
    "nodes = []\n",
    "cpu_list = []\n",
    "wait_time = []\n",
    "\n",
    "for i in range(len(start_times)):\n",
    "    for j in range(len(x)):        \n",
    "        if x[j] >= start_times[i] and x[j] < end_times[i]:\n",
    "            try:\n",
    "                nodes[j].extend(nodes_list[i])\n",
    "                cpu_list[j] += cpus_being_used[i]\n",
    "                wait_time[j] += wait_time_list[i]\n",
    "            except:\n",
    "                nodes.insert(j, nodes_list[i])\n",
    "                cpu_list.insert(j, cpus_being_used[i])\n",
    "                wait_time.insert(j, wait_time_list[i])\n",
    "                \n",
    "        elif x[j] >= end_times[i]:\n",
    "            break\n",
    "        else:\n",
    "            continue"
   ]
  },
  {
   "cell_type": "code",
   "execution_count": 80,
   "metadata": {},
   "outputs": [],
   "source": [
    "# df_utilization = pd.read_csv(\"df_utilization.csv\")"
   ]
  },
  {
   "cell_type": "code",
   "execution_count": 1,
   "metadata": {},
   "outputs": [],
   "source": [
    "# df_utilization.head()"
   ]
  },
  {
   "cell_type": "code",
   "execution_count": 83,
   "metadata": {},
   "outputs": [],
   "source": [
    "df_utilization['node_list'] = nodes"
   ]
  },
  {
   "cell_type": "code",
   "execution_count": 84,
   "metadata": {},
   "outputs": [],
   "source": [
    "# df_utilization.to_csv(\"df_utilization1.csv\")"
   ]
  },
  {
   "cell_type": "code",
   "execution_count": 86,
   "metadata": {},
   "outputs": [],
   "source": [
    "# df_utilization = df_utilization.drop(['Unnamed: 0', 'Unnamed: 0.1'], axis=1)"
   ]
  },
  {
   "cell_type": "code",
   "execution_count": 2,
   "metadata": {},
   "outputs": [],
   "source": [
    "df_utilization.head()"
   ]
  },
  {
   "cell_type": "code",
   "execution_count": 88,
   "metadata": {},
   "outputs": [],
   "source": [
    "nodes = list(df_utilization['node_list'])"
   ]
  },
  {
   "cell_type": "code",
   "execution_count": 3,
   "metadata": {},
   "outputs": [],
   "source": [
    "nodes = [list(set(i)) for i in nodes]"
   ]
  },
  {
   "cell_type": "code",
   "execution_count": 4,
   "metadata": {},
   "outputs": [],
   "source": [
    "df_utilization['node_list'] = nodes"
   ]
  },
  {
   "cell_type": "code",
   "execution_count": 5,
   "metadata": {},
   "outputs": [],
   "source": [
    "df_utilization.head()"
   ]
  },
  {
   "cell_type": "code",
   "execution_count": 6,
   "metadata": {},
   "outputs": [],
   "source": [
    "# nodes[0]"
   ]
  },
  {
   "cell_type": "code",
   "execution_count": 7,
   "metadata": {},
   "outputs": [],
   "source": [
    "df_utilization['wait_time'] = wait_time"
   ]
  },
  {
   "cell_type": "code",
   "execution_count": 8,
   "metadata": {},
   "outputs": [],
   "source": [
    "max(df_utilization['cpus_being_used'])"
   ]
  },
  {
   "cell_type": "code",
   "execution_count": 87,
   "metadata": {},
   "outputs": [],
   "source": [
    "df_utilization['cpus_being_used%'] = 100*(df_utilization['cpus_being_used']/cpu)"
   ]
  },
  {
   "cell_type": "code",
   "execution_count": 88,
   "metadata": {},
   "outputs": [
    {
     "data": {
      "text/html": [
       "<div>\n",
       "<style scoped>\n",
       "    .dataframe tbody tr th:only-of-type {\n",
       "        vertical-align: middle;\n",
       "    }\n",
       "\n",
       "    .dataframe tbody tr th {\n",
       "        vertical-align: top;\n",
       "    }\n",
       "\n",
       "    .dataframe thead th {\n",
       "        text-align: right;\n",
       "    }\n",
       "</style>\n",
       "<table border=\"1\" class=\"dataframe\">\n",
       "  <thead>\n",
       "    <tr style=\"text-align: right;\">\n",
       "      <th></th>\n",
       "      <th>Unnamed: 0</th>\n",
       "      <th>Time Hours</th>\n",
       "      <th>cpus_being_used</th>\n",
       "      <th>wait_time</th>\n",
       "      <th>cpus_being_used%</th>\n",
       "    </tr>\n",
       "  </thead>\n",
       "  <tbody>\n",
       "  </tbody>\n",
       "</table>\n",
       "</div>"
      ],
      "text/plain": [
       "Empty DataFrame\n",
       "Columns: [Unnamed: 0, Time Hours, cpus_being_used, wait_time, cpus_being_used%]\n",
       "Index: []"
      ]
     },
     "execution_count": 88,
     "metadata": {},
     "output_type": "execute_result"
    }
   ],
   "source": [
    "df_utilization[df_utilization['cpus_being_used']>cpu]"
   ]
  },
  {
   "cell_type": "code",
   "execution_count": 125,
   "metadata": {},
   "outputs": [
    {
     "data": {
      "text/plain": [
       "Text(0.5,0,'Time')"
      ]
     },
     "execution_count": 125,
     "metadata": {},
     "output_type": "execute_result"
    },
    {
     "data": {
      "image/png": "[encoded data removed]",
      "text/plain": [
       "<Figure size 1440x720 with 1 Axes>"
      ]
     },
     "metadata": {
      "needs_background": "light"
     },
     "output_type": "display_data"
    }
   ],
   "source": [
    "plt.figure(figsize=(20, 10))\n",
    "plt.plot(x, df_utilization['cpus_being_used%'])\n",
    "plt.ylabel(\"CPUs usage percentage\")\n",
    "plt.xlabel('Time')"
   ]
  },
  {
   "cell_type": "code",
   "execution_count": 127,
   "metadata": {},
   "outputs": [
    {
     "data": {
      "text/plain": [
       "Text(0,0.5,'Wait Time (Hours)')"
      ]
     },
     "execution_count": 127,
     "metadata": {},
     "output_type": "execute_result"
    },
    {
     "data": {
      "image/png": "[encoded data removed]",
      "text/plain": [
       "<Figure size 1440x720 with 1 Axes>"
      ]
     },
     "metadata": {
      "needs_background": "light"
     },
     "output_type": "display_data"
    }
   ],
   "source": [
    "plt.figure(figsize=(20, 10))\n",
    "plt.plot(x, df_utilization['wait_time'])\n",
    "plt.xlabel(\"Time\")\n",
    "plt.ylabel('Wait Time (Hours)')"
   ]
  },
  {
   "cell_type": "code",
   "execution_count": 9,
   "metadata": {},
   "outputs": [],
   "source": [
    "# df_utilization.to_csv('/scratch/shajisey/df_utilization.csv')"
   ]
  },
  {
   "cell_type": "code",
   "execution_count": 10,
   "metadata": {},
   "outputs": [],
   "source": [
    "# df_utilization = pd.read_csv('df_utilization.csv')"
   ]
  },
  {
   "cell_type": "code",
   "execution_count": null,
   "metadata": {},
   "outputs": [],
   "source": []
  }
 ],
 "metadata": {
  "kernelspec": {
   "display_name": "Python 3 (anaconda3 5.3.0)",
   "language": "python",
   "name": "anaconda3-5.3.0"
  },
  "language_info": {
   "codemirror_mode": {
    "name": "ipython",
    "version": 3
   },
   "file_extension": ".py",
   "mimetype": "text/x-python",
   "name": "python",
   "nbconvert_exporter": "python",
   "pygments_lexer": "ipython3",
   "version": "3.7.0"
  }
 },
 "nbformat": 4,
 "nbformat_minor": 2
}
